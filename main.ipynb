{
 "cells": [
  {
   "cell_type": "markdown",
   "metadata": {
    "papermill": {
     "duration": 0.027781,
     "end_time": "2021-01-02T13:03:33.221205",
     "exception": false,
     "start_time": "2021-01-02T13:03:33.193424",
     "status": "completed"
    },
    "tags": []
   },
   "source": [
    "# GTZAN - Deep Learning con NN e CNN\n",
    "\n",
    "`Classificazione generi musicali`. Gli esperti da tempo cercano di capire il suono e cosa differenzia uno dall'altro. Per visualizzare il suono, si utilizzano spesso rappresentazioni grafiche come spettrogrammi o onde sonore. Ciò consente di osservare le variazioni di frequenza nel tempo.\n",
    "\n",
    "Ci sono molteplici elementi che distinguono un tono da un altro. Le caratteristiche del suono possono includere:\n",
    "\n",
    "- Frequenza: La frequenza di un suono determina l'altezza percepita, con toni più alti che hanno frequenze più elevate e toni più bassi che hanno frequenze più basse.\n",
    "- Intensità: L'intensità o ampiezza del suono rappresenta il volume percepito, dove suoni più forti hanno una maggiore ampiezza.\n",
    "- Timbro: È la qualità unica del suono che consente di distinguere uno strumento da un altro o una voce da un altro suono simile in altezza e intensità. Il timbro dipende dalla forma d'onda e dalla struttura armonica del suono.\n",
    "\n",
    "Il dataset contiene 10 generi musicali:\n",
    "\n",
    "- Blues\n",
    "- Classica\n",
    "- Country\n",
    "- Disco\n",
    "- Hiphop\n",
    "- Jazz\n",
    "- Metal\n",
    "- Pop\n",
    "- Reggae\n",
    "- Rock\n",
    "Questi modelli di insieme possono combinare diverse tecniche di apprendimento automatico per ottenere una migliore comprensione delle differenze tra i generi musicali e migliorare la capacità di distinguerli in base alle caratteristiche estratte dai dati audio.\n"
   ]
  },
  {
   "cell_type": "markdown",
   "metadata": {
    "papermill": {
     "duration": 0.025892,
     "end_time": "2021-01-02T13:03:33.274293",
     "exception": false,
     "start_time": "2021-01-02T13:03:33.248401",
     "status": "completed"
    },
    "tags": []
   },
   "source": [
    "# Caricamento e analisi iniziale dati"
   ]
  },
  {
   "cell_type": "markdown",
   "metadata": {},
   "source": [
    "### Librerie"
   ]
  },
  {
   "cell_type": "code",
   "execution_count": null,
   "metadata": {
    "execution": {
     "iopub.execute_input": "2021-01-02T13:03:33.339356Z",
     "iopub.status.busy": "2021-01-02T13:03:33.338645Z",
     "iopub.status.idle": "2021-01-02T13:03:36.286766Z",
     "shell.execute_reply": "2021-01-02T13:03:36.285133Z"
    },
    "papermill": {
     "duration": 2.985677,
     "end_time": "2021-01-02T13:03:36.286920",
     "exception": false,
     "start_time": "2021-01-02T13:03:33.301243",
     "status": "completed"
    },
    "tags": []
   },
   "outputs": [],
   "source": [
    "import numpy as np\n",
    "import pandas as pd\n",
    "import matplotlib.pyplot as plt\n",
    "import seaborn as sns\n",
    "sns.set_style('whitegrid')\n",
    "%matplotlib inline\n",
    "import warnings\n",
    "warnings.filterwarnings('ignore')\n",
    "import sklearn.metrics as skm\n",
    "import sklearn.model_selection as skms\n",
    "import sklearn.preprocessing as skp\n",
    "from sklearn.decomposition import PCA\n",
    "import random\n",
    "import librosa, IPython\n",
    "import librosa.display as lplt\n",
    "seed = 13\n",
    "np.random.seed(seed)"
   ]
  },
  {
   "cell_type": "markdown",
   "metadata": {
    "papermill": {
     "duration": 0.026313,
     "end_time": "2021-01-02T13:03:36.340472",
     "exception": false,
     "start_time": "2021-01-02T13:03:36.314159",
     "status": "completed"
    },
    "tags": []
   },
   "source": [
    "### Caricamento dataset"
   ]
  },
  {
   "cell_type": "code",
   "execution_count": null,
   "metadata": {
    "execution": {
     "iopub.execute_input": "2021-01-02T13:03:36.407849Z",
     "iopub.status.busy": "2021-01-02T13:03:36.407100Z",
     "iopub.status.idle": "2021-01-02T13:03:36.893393Z",
     "shell.execute_reply": "2021-01-02T13:03:36.894043Z"
    },
    "papermill": {
     "duration": 0.527251,
     "end_time": "2021-01-02T13:03:36.894238",
     "exception": false,
     "start_time": "2021-01-02T13:03:36.366987",
     "status": "completed"
    },
    "tags": []
   },
   "outputs": [],
   "source": [
    "df = pd.read_csv('archive/Data/features_3_sec.csv')\n",
    "df.head()"
   ]
  },
  {
   "cell_type": "markdown",
   "metadata": {
    "papermill": {
     "duration": 0.031762,
     "end_time": "2021-01-02T13:03:36.961481",
     "exception": false,
     "start_time": "2021-01-02T13:03:36.929719",
     "status": "completed"
    },
    "tags": []
   },
   "source": [
    "### Info dataset"
   ]
  },
  {
   "cell_type": "code",
   "execution_count": null,
   "metadata": {
    "execution": {
     "iopub.execute_input": "2021-01-02T13:03:37.043376Z",
     "iopub.status.busy": "2021-01-02T13:03:37.031075Z",
     "iopub.status.idle": "2021-01-02T13:03:37.051936Z",
     "shell.execute_reply": "2021-01-02T13:03:37.051316Z"
    },
    "papermill": {
     "duration": 0.059543,
     "end_time": "2021-01-02T13:03:37.052066",
     "exception": false,
     "start_time": "2021-01-02T13:03:36.992523",
     "status": "completed"
    },
    "scrolled": false,
    "tags": []
   },
   "outputs": [],
   "source": [
    "print(\"Dataset has\",df.shape)\n",
    "print(\"Count of Positive and Negative samples\")\n",
    "df.label.value_counts().reset_index()"
   ]
  },
  {
   "cell_type": "markdown",
   "metadata": {
    "papermill": {
     "duration": 0.02995,
     "end_time": "2021-01-02T13:03:37.111505",
     "exception": false,
     "start_time": "2021-01-02T13:03:37.081555",
     "status": "completed"
    },
    "tags": []
   },
   "source": [
    "# Test per creazione dataset `audio --> immagine`"
   ]
  },
  {
   "cell_type": "code",
   "execution_count": null,
   "metadata": {
    "execution": {
     "iopub.execute_input": "2021-01-02T13:03:37.175831Z",
     "iopub.status.busy": "2021-01-02T13:03:37.175135Z",
     "iopub.status.idle": "2021-01-02T13:03:37.243458Z",
     "shell.execute_reply": "2021-01-02T13:03:37.242682Z"
    },
    "papermill": {
     "duration": 0.103499,
     "end_time": "2021-01-02T13:03:37.243592",
     "exception": false,
     "start_time": "2021-01-02T13:03:37.140093",
     "status": "completed"
    },
    "tags": []
   },
   "outputs": [],
   "source": [
    "audio_fp = 'archive/Data/genres_original/blues/blues.00000.wav'\n",
    "audio_data, sr = librosa.load(audio_fp)\n",
    "audio_data, _ = librosa.effects.trim(audio_data)"
   ]
  },
  {
   "cell_type": "code",
   "execution_count": null,
   "metadata": {
    "execution": {
     "iopub.execute_input": "2021-01-02T13:03:37.308703Z",
     "iopub.status.busy": "2021-01-02T13:03:37.307572Z",
     "iopub.status.idle": "2021-01-02T13:03:37.400795Z",
     "shell.execute_reply": "2021-01-02T13:03:37.400151Z"
    },
    "papermill": {
     "duration": 0.128098,
     "end_time": "2021-01-02T13:03:37.400923",
     "exception": false,
     "start_time": "2021-01-02T13:03:37.272825",
     "status": "completed"
    },
    "tags": []
   },
   "outputs": [],
   "source": [
    "# play sample file\n",
    "IPython.display.Audio(audio_data, rate=sr)"
   ]
  },
  {
   "cell_type": "code",
   "execution_count": null,
   "metadata": {
    "execution": {
     "iopub.execute_input": "2021-01-02T13:03:37.536962Z",
     "iopub.status.busy": "2021-01-02T13:03:37.536206Z",
     "iopub.status.idle": "2021-01-02T13:03:38.016227Z",
     "shell.execute_reply": "2021-01-02T13:03:38.014880Z"
    },
    "papermill": {
     "duration": 0.551263,
     "end_time": "2021-01-02T13:03:38.016401",
     "exception": false,
     "start_time": "2021-01-02T13:03:37.465138",
     "status": "completed"
    },
    "tags": []
   },
   "outputs": [],
   "source": [
    "# plot sample file\n",
    "plt.figure(figsize=(15,5))\n",
    "plt.plot(audio_data)\n",
    "plt.show()"
   ]
  },
  {
   "cell_type": "code",
   "execution_count": null,
   "metadata": {
    "execution": {
     "iopub.execute_input": "2021-01-02T13:03:38.162835Z",
     "iopub.status.busy": "2021-01-02T13:03:38.161918Z",
     "iopub.status.idle": "2021-01-02T13:03:40.361575Z",
     "shell.execute_reply": "2021-01-02T13:03:40.362161Z"
    },
    "papermill": {
     "duration": 2.277831,
     "end_time": "2021-01-02T13:03:40.362336",
     "exception": false,
     "start_time": "2021-01-02T13:03:38.084505",
     "status": "completed"
    },
    "tags": []
   },
   "outputs": [],
   "source": [
    "# Default FFT window size\n",
    "n_fft = 2048 # window size\n",
    "hop_length = 512 # window hop length for STFT\n",
    "\n",
    "stft = librosa.stft(audio_data, n_fft=n_fft, hop_length=hop_length)\n",
    "stft_db = librosa.amplitude_to_db(stft, ref=np.max)\n",
    "\n",
    "plt.figure(figsize=(12,4))\n",
    "lplt.specshow(stft, sr=sr, x_axis='time', y_axis='hz')\n",
    "plt.colorbar()\n",
    "plt.title(\"Spectrogram with amplitude\")\n",
    "plt.show()\n",
    "\n",
    "plt.figure(figsize=(12,4))\n",
    "lplt.specshow(stft_db, sr=sr, x_axis='time', y_axis='log', cmap='cool')\n",
    "plt.colorbar()\n",
    "plt.title(\"Spectrogram with decibel log\")\n",
    "plt.show()"
   ]
  },
  {
   "cell_type": "code",
   "execution_count": null,
   "metadata": {
    "execution": {
     "iopub.execute_input": "2021-01-02T13:03:40.507768Z",
     "iopub.status.busy": "2021-01-02T13:03:40.506958Z",
     "iopub.status.idle": "2021-01-02T13:03:40.798166Z",
     "shell.execute_reply": "2021-01-02T13:03:40.798810Z"
    },
    "papermill": {
     "duration": 0.364219,
     "end_time": "2021-01-02T13:03:40.799056",
     "exception": false,
     "start_time": "2021-01-02T13:03:40.434837",
     "status": "completed"
    },
    "tags": []
   },
   "outputs": [],
   "source": [
    "# plot zoomed audio wave \n",
    "start = 1000\n",
    "end = 1200\n",
    "plt.figure(figsize=(16,4))\n",
    "plt.plot(audio_data[start:end])\n",
    "plt.show()"
   ]
  },
  {
   "cell_type": "code",
   "execution_count": null,
   "metadata": {
    "execution": {
     "iopub.execute_input": "2021-01-02T13:03:40.950848Z",
     "iopub.status.busy": "2021-01-02T13:03:40.950122Z",
     "iopub.status.idle": "2021-01-02T13:03:41.479671Z",
     "shell.execute_reply": "2021-01-02T13:03:41.480228Z"
    },
    "papermill": {
     "duration": 0.604346,
     "end_time": "2021-01-02T13:03:41.480413",
     "exception": false,
     "start_time": "2021-01-02T13:03:40.876067",
     "status": "completed"
    },
    "tags": []
   },
   "outputs": [],
   "source": [
    "mel_spec = librosa.feature.melspectrogram(y=audio_data, sr=sr)\n",
    "mel_spec_db = librosa.amplitude_to_db(mel_spec, ref=np.max)\n",
    "plt.figure(figsize=(16,6))\n",
    "lplt.specshow(mel_spec_db, sr=sr, hop_length=hop_length, x_axis='time', y_axis='log', cmap='cool')\n",
    "plt.colorbar()\n",
    "plt.title(\"Mel Spectrogram\")\n",
    "plt.show()"
   ]
  },
  {
   "cell_type": "code",
   "execution_count": null,
   "metadata": {
    "execution": {
     "iopub.execute_input": "2021-01-02T13:03:41.648432Z",
     "iopub.status.busy": "2021-01-02T13:03:41.647656Z",
     "iopub.status.idle": "2021-01-02T13:03:42.283596Z",
     "shell.execute_reply": "2021-01-02T13:03:42.282584Z"
    },
    "papermill": {
     "duration": 0.725459,
     "end_time": "2021-01-02T13:03:42.283796",
     "exception": false,
     "start_time": "2021-01-02T13:03:41.558337",
     "status": "completed"
    },
    "tags": []
   },
   "outputs": [],
   "source": [
    "chroma = librosa.feature.chroma_stft(y=audio_data, sr=sr)\n",
    "plt.figure(figsize=(16,6))\n",
    "lplt.specshow(chroma, sr=sr, x_axis='time', y_axis='chroma', cmap='coolwarm')\n",
    "plt.colorbar()\n",
    "plt.title(\"Chroma Features\")\n",
    "plt.show()"
   ]
  },
  {
   "cell_type": "code",
   "execution_count": null,
   "metadata": {
    "execution": {
     "iopub.execute_input": "2021-01-02T13:03:42.447528Z",
     "iopub.status.busy": "2021-01-02T13:03:42.442105Z",
     "iopub.status.idle": "2021-01-02T13:03:43.582201Z",
     "shell.execute_reply": "2021-01-02T13:03:43.581494Z"
    },
    "papermill": {
     "duration": 1.223612,
     "end_time": "2021-01-02T13:03:43.582320",
     "exception": false,
     "start_time": "2021-01-02T13:03:42.358708",
     "status": "completed"
    },
    "tags": []
   },
   "outputs": [],
   "source": [
    "# Computing the Correlation Matrix\n",
    "spike_cols = [col for col in df.columns if 'mean' in col]\n",
    "corr = df[spike_cols].corr()\n",
    "\n",
    "# Generate a mask for the upper triangle\n",
    "mask = np.triu(np.ones_like(corr, dtype=bool))\n",
    "\n",
    "# Set up the matplotlib figure\n",
    "f, ax = plt.subplots(figsize=(16, 11));\n",
    "\n",
    "# Generate a custom diverging colormap\n",
    "cmap = sns.diverging_palette(0, 25, as_cmap=True, s = 90, l = 45, n = 5)\n",
    "\n",
    "# Draw the heatmap with the mask and correct aspect ratio\n",
    "sns.heatmap(corr, mask=mask, cmap=cmap, vmax=.3, center=0,\n",
    "            square=True, linewidths=.5, cbar_kws={\"shrink\": .5})\n",
    "\n",
    "plt.title('Correlation Heatmap (for the MEAN variables)', fontsize = 20)\n",
    "plt.xticks(fontsize = 10)\n",
    "plt.yticks(fontsize = 10)\n",
    "plt.savefig(\"Corr_Heatmap.png\")"
   ]
  },
  {
   "cell_type": "code",
   "execution_count": null,
   "metadata": {
    "execution": {
     "iopub.execute_input": "2021-01-02T13:03:43.751646Z",
     "iopub.status.busy": "2021-01-02T13:03:43.744914Z",
     "iopub.status.idle": "2021-01-02T13:03:44.241739Z",
     "shell.execute_reply": "2021-01-02T13:03:44.241128Z"
    },
    "papermill": {
     "duration": 0.583451,
     "end_time": "2021-01-02T13:03:44.241855",
     "exception": false,
     "start_time": "2021-01-02T13:03:43.658404",
     "status": "completed"
    },
    "tags": []
   },
   "outputs": [],
   "source": [
    "x = df[[\"label\", \"tempo\"]]\n",
    "\n",
    "fig, ax = plt.subplots(figsize=(16, 8));\n",
    "sns.boxplot(x = \"label\", y = \"tempo\", data = x, palette = 'husl');\n",
    "\n",
    "plt.title('BPM Boxplot for Genres', fontsize = 20)\n",
    "plt.xticks(fontsize = 14)\n",
    "plt.yticks(fontsize = 10)\n",
    "plt.xlabel(\"Genre\", fontsize = 15)\n",
    "plt.ylabel(\"BPM\", fontsize = 15)\n",
    "plt.savefig(\"BPM_Boxplot.png\")"
   ]
  },
  {
   "cell_type": "code",
   "execution_count": null,
   "metadata": {
    "execution": {
     "iopub.execute_input": "2021-01-02T13:03:44.421477Z",
     "iopub.status.busy": "2021-01-02T13:03:44.420727Z",
     "iopub.status.idle": "2021-01-02T13:03:46.215325Z",
     "shell.execute_reply": "2021-01-02T13:03:46.216042Z"
    },
    "papermill": {
     "duration": 1.897188,
     "end_time": "2021-01-02T13:03:46.216255",
     "exception": false,
     "start_time": "2021-01-02T13:03:44.319067",
     "status": "completed"
    },
    "tags": []
   },
   "outputs": [],
   "source": [
    "data = df.iloc[0:, 1:]\n",
    "y = data['label']\n",
    "X = data.loc[:, data.columns != 'label']\n",
    "\n",
    "# normalize\n",
    "cols = X.columns\n",
    "min_max_scaler = skp.MinMaxScaler()\n",
    "np_scaled = min_max_scaler.fit_transform(X)\n",
    "X = pd.DataFrame(np_scaled, columns = cols)\n",
    "\n",
    "pca = PCA(n_components=2)\n",
    "principalComponents = pca.fit_transform(X)\n",
    "principalDf = pd.DataFrame(data = principalComponents, columns = ['pc1', 'pc2'])\n",
    "\n",
    "# concatenate with target label\n",
    "finalDf = pd.concat([principalDf, y], axis = 1)\n",
    "\n",
    "plt.figure(figsize = (16, 9))\n",
    "sns.scatterplot(x = \"pc1\", y = \"pc2\", data = finalDf, hue = \"label\", alpha = 0.7, s = 100);\n",
    "\n",
    "plt.title('PCA on Genres', fontsize = 20)\n",
    "plt.xticks(fontsize = 14)\n",
    "plt.yticks(fontsize = 10)\n",
    "plt.xlabel(\"Principal Component 1\", fontsize = 15)\n",
    "plt.ylabel(\"Principal Component 2\", fontsize = 15)\n",
    "plt.savefig(\"PCA_Scattert.png\")"
   ]
  },
  {
   "cell_type": "markdown",
   "metadata": {
    "papermill": {
     "duration": 0.090162,
     "end_time": "2021-01-02T13:03:46.404637",
     "exception": false,
     "start_time": "2021-01-02T13:03:46.314475",
     "status": "completed"
    },
    "tags": []
   },
   "source": [
    "# Preparazione dati"
   ]
  },
  {
   "cell_type": "markdown",
   "metadata": {
    "papermill": {
     "duration": 0.090954,
     "end_time": "2021-01-02T13:03:46.587075",
     "exception": false,
     "start_time": "2021-01-02T13:03:46.496121",
     "status": "completed"
    },
    "tags": []
   },
   "source": [
    "## Drop colonne vuote"
   ]
  },
  {
   "cell_type": "code",
   "execution_count": null,
   "metadata": {
    "execution": {
     "iopub.execute_input": "2021-01-02T13:03:46.778222Z",
     "iopub.status.busy": "2021-01-02T13:03:46.777238Z",
     "iopub.status.idle": "2021-01-02T13:03:46.787370Z",
     "shell.execute_reply": "2021-01-02T13:03:46.788324Z"
    },
    "papermill": {
     "duration": 0.109172,
     "end_time": "2021-01-02T13:03:46.788532",
     "exception": false,
     "start_time": "2021-01-02T13:03:46.679360",
     "status": "completed"
    },
    "scrolled": true,
    "tags": []
   },
   "outputs": [],
   "source": [
    "# find all columns with any NA values\n",
    "print(\"Columns with NA values are\",list(df.columns[df.isnull().any()]))"
   ]
  },
  {
   "cell_type": "markdown",
   "metadata": {
    "papermill": {
     "duration": 0.090659,
     "end_time": "2021-01-02T13:03:46.971802",
     "exception": false,
     "start_time": "2021-01-02T13:03:46.881143",
     "status": "completed"
    },
    "tags": []
   },
   "source": [
    "`Nessun valore vuoto nel dataset`"
   ]
  },
  {
   "cell_type": "markdown",
   "metadata": {
    "papermill": {
     "duration": 0.090936,
     "end_time": "2021-01-02T13:03:47.157093",
     "exception": false,
     "start_time": "2021-01-02T13:03:47.066157",
     "status": "completed"
    },
    "tags": []
   },
   "source": [
    "## Encoding delle label"
   ]
  },
  {
   "cell_type": "code",
   "execution_count": null,
   "metadata": {
    "execution": {
     "iopub.execute_input": "2021-01-02T13:03:47.392074Z",
     "iopub.status.busy": "2021-01-02T13:03:47.391146Z",
     "iopub.status.idle": "2021-01-02T13:03:47.396443Z",
     "shell.execute_reply": "2021-01-02T13:03:47.395422Z"
    },
    "papermill": {
     "duration": 0.128406,
     "end_time": "2021-01-02T13:03:47.396633",
     "exception": false,
     "start_time": "2021-01-02T13:03:47.268227",
     "status": "completed"
    },
    "tags": []
   },
   "outputs": [],
   "source": [
    "# map labels to index\n",
    "label_index = dict()\n",
    "index_label = dict()\n",
    "for i, x in enumerate(df.label.unique()):\n",
    "    label_index[x] = i\n",
    "    index_label[i] = x\n",
    "print(label_index)\n",
    "print(index_label)"
   ]
  },
  {
   "cell_type": "code",
   "execution_count": null,
   "metadata": {
    "execution": {
     "iopub.execute_input": "2021-01-02T13:03:47.597946Z",
     "iopub.status.busy": "2021-01-02T13:03:47.597218Z",
     "iopub.status.idle": "2021-01-02T13:03:47.601504Z",
     "shell.execute_reply": "2021-01-02T13:03:47.600922Z"
    },
    "papermill": {
     "duration": 0.110305,
     "end_time": "2021-01-02T13:03:47.601657",
     "exception": false,
     "start_time": "2021-01-02T13:03:47.491352",
     "status": "completed"
    },
    "tags": []
   },
   "outputs": [],
   "source": [
    "# update labels in df to index\n",
    "df.label = [label_index[l] for l in df.label]"
   ]
  },
  {
   "cell_type": "markdown",
   "metadata": {
    "papermill": {
     "duration": 0.094374,
     "end_time": "2021-01-02T13:03:47.789155",
     "exception": false,
     "start_time": "2021-01-02T13:03:47.694781",
     "status": "completed"
    },
    "tags": []
   },
   "source": [
    "# Split Train-Val-Test"
   ]
  },
  {
   "cell_type": "code",
   "execution_count": null,
   "metadata": {
    "execution": {
     "iopub.execute_input": "2021-01-02T13:03:47.983277Z",
     "iopub.status.busy": "2021-01-02T13:03:47.982575Z",
     "iopub.status.idle": "2021-01-02T13:03:47.993401Z",
     "shell.execute_reply": "2021-01-02T13:03:47.992657Z"
    },
    "papermill": {
     "duration": 0.110988,
     "end_time": "2021-01-02T13:03:47.993520",
     "exception": false,
     "start_time": "2021-01-02T13:03:47.882532",
     "status": "completed"
    },
    "tags": []
   },
   "outputs": [],
   "source": [
    "# shuffle samples\n",
    "df_shuffle = df.sample(frac=1, random_state=seed).reset_index(drop=True)"
   ]
  },
  {
   "cell_type": "code",
   "execution_count": null,
   "metadata": {
    "execution": {
     "iopub.execute_input": "2021-01-02T13:03:48.194063Z",
     "iopub.status.busy": "2021-01-02T13:03:48.193388Z",
     "iopub.status.idle": "2021-01-02T13:03:48.220334Z",
     "shell.execute_reply": "2021-01-02T13:03:48.219779Z"
    },
    "papermill": {
     "duration": 0.133198,
     "end_time": "2021-01-02T13:03:48.220456",
     "exception": false,
     "start_time": "2021-01-02T13:03:48.087258",
     "status": "completed"
    },
    "tags": []
   },
   "outputs": [],
   "source": [
    "# remove irrelevant columns\n",
    "df_shuffle.drop(['filename', 'length'], axis=1, inplace=True)\n",
    "df_y = df_shuffle.pop('label')\n",
    "df_X = df_shuffle\n",
    "\n",
    "# split into train dev and test\n",
    "X_train, df_test_valid_X, y_train, df_test_valid_y = skms.train_test_split(df_X, df_y, train_size=0.7, random_state=seed, stratify=df_y)\n",
    "X_dev, X_test, y_dev, y_test = skms.train_test_split(df_test_valid_X, df_test_valid_y, train_size=0.66, random_state=seed, stratify=df_test_valid_y)"
   ]
  },
  {
   "cell_type": "code",
   "execution_count": null,
   "metadata": {
    "execution": {
     "iopub.execute_input": "2021-01-02T13:03:48.413908Z",
     "iopub.status.busy": "2021-01-02T13:03:48.412840Z",
     "iopub.status.idle": "2021-01-02T13:03:48.418387Z",
     "shell.execute_reply": "2021-01-02T13:03:48.417869Z"
    },
    "papermill": {
     "duration": 0.105845,
     "end_time": "2021-01-02T13:03:48.418499",
     "exception": false,
     "start_time": "2021-01-02T13:03:48.312654",
     "status": "completed"
    },
    "tags": []
   },
   "outputs": [],
   "source": [
    "print(f\"Train set has {X_train.shape[0]} records out of {len(df_shuffle)} which is {round(X_train.shape[0]/len(df_shuffle)*100)}%\")\n",
    "print(f\"Dev set has {X_dev.shape[0]} records out of {len(df_shuffle)} which is {round(X_dev.shape[0]/len(df_shuffle)*100)}%\")\n",
    "print(f\"Test set has {X_test.shape[0]} records out of {len(df_shuffle)} which is {round(X_test.shape[0]/len(df_shuffle)*100)}%\")"
   ]
  },
  {
   "cell_type": "code",
   "execution_count": null,
   "metadata": {
    "execution": {
     "iopub.execute_input": "2021-01-02T13:03:48.614418Z",
     "iopub.status.busy": "2021-01-02T13:03:48.613547Z",
     "iopub.status.idle": "2021-01-02T13:03:48.621038Z",
     "shell.execute_reply": "2021-01-02T13:03:48.620002Z"
    },
    "papermill": {
     "duration": 0.110609,
     "end_time": "2021-01-02T13:03:48.621180",
     "exception": false,
     "start_time": "2021-01-02T13:03:48.510571",
     "status": "completed"
    },
    "tags": []
   },
   "outputs": [],
   "source": [
    "print(y_train.value_counts()[0]/y_train.shape[0]*100)\n",
    "print(y_dev.value_counts()[0]/y_dev.shape[0]*100)\n",
    "print(y_test.value_counts()[0]/y_test.shape[0]*100)"
   ]
  },
  {
   "cell_type": "markdown",
   "metadata": {
    "papermill": {
     "duration": 0.092818,
     "end_time": "2021-01-02T13:03:48.808526",
     "exception": false,
     "start_time": "2021-01-02T13:03:48.715708",
     "status": "completed"
    },
    "tags": []
   },
   "source": [
    "## Normalizzazione delle feature"
   ]
  },
  {
   "cell_type": "code",
   "execution_count": null,
   "metadata": {
    "execution": {
     "iopub.execute_input": "2021-01-02T13:03:49.006794Z",
     "iopub.status.busy": "2021-01-02T13:03:49.006067Z",
     "iopub.status.idle": "2021-01-02T13:03:49.031610Z",
     "shell.execute_reply": "2021-01-02T13:03:49.031008Z"
    },
    "papermill": {
     "duration": 0.129726,
     "end_time": "2021-01-02T13:03:49.031748",
     "exception": false,
     "start_time": "2021-01-02T13:03:48.902022",
     "status": "completed"
    },
    "tags": []
   },
   "outputs": [],
   "source": [
    "scaler = skp.StandardScaler()\n",
    "X_train = pd.DataFrame(scaler.fit_transform(X_train), columns=X_train.columns)\n",
    "X_dev = pd.DataFrame(scaler.transform(X_dev), columns=X_train.columns)\n",
    "X_test = pd.DataFrame(scaler.transform(X_test), columns=X_train.columns)"
   ]
  },
  {
   "cell_type": "markdown",
   "metadata": {
    "papermill": {
     "duration": 0.094109,
     "end_time": "2021-01-02T13:03:49.219189",
     "exception": false,
     "start_time": "2021-01-02T13:03:49.125080",
     "status": "completed"
    },
    "tags": []
   },
   "source": [
    "# Creazione e Addestramento Modelli"
   ]
  },
  {
   "cell_type": "code",
   "execution_count": null,
   "metadata": {
    "execution": {
     "iopub.execute_input": "2021-01-02T13:03:49.415836Z",
     "iopub.status.busy": "2021-01-02T13:03:49.415091Z",
     "iopub.status.idle": "2021-01-02T13:03:56.012988Z",
     "shell.execute_reply": "2021-01-02T13:03:56.011752Z"
    },
    "papermill": {
     "duration": 6.69944,
     "end_time": "2021-01-02T13:03:56.013162",
     "exception": false,
     "start_time": "2021-01-02T13:03:49.313722",
     "status": "completed"
    },
    "tags": []
   },
   "outputs": [],
   "source": [
    "import tensorflow as tf\n",
    "print(\"TF version:-\", tf.__version__)\n",
    "import keras as k\n",
    "tf.random.set_seed(seed)"
   ]
  },
  {
   "cell_type": "code",
   "execution_count": null,
   "metadata": {
    "execution": {
     "iopub.execute_input": "2021-01-02T13:03:56.219400Z",
     "iopub.status.busy": "2021-01-02T13:03:56.218679Z",
     "iopub.status.idle": "2021-01-02T13:03:56.231299Z",
     "shell.execute_reply": "2021-01-02T13:03:56.230374Z"
    },
    "papermill": {
     "duration": 0.117568,
     "end_time": "2021-01-02T13:03:56.231446",
     "exception": false,
     "start_time": "2021-01-02T13:03:56.113878",
     "status": "completed"
    },
    "scrolled": true,
    "tags": []
   },
   "outputs": [],
   "source": [
    "ACCURACY_THRESHOLD = 0.94\n",
    "\n",
    "class myCallback(k.callbacks.Callback):\n",
    "    def on_epoch_end(self, epoch, logs={}):\n",
    "        if(logs.get('val_accuracy') > ACCURACY_THRESHOLD):\n",
    "            print(\"\\n\\nStopping training as we have reached %2.2f%% accuracy!\" %(ACCURACY_THRESHOLD*100))   \n",
    "            self.model.stop_training = True\n",
    "\n",
    "def trainModel(model, epochs, optimizer):\n",
    "    batch_size = 128\n",
    "    callback = myCallback()\n",
    "    model.compile(optimizer=optimizer,\n",
    "                  loss='sparse_categorical_crossentropy',\n",
    "                  metrics='accuracy'\n",
    "    )\n",
    "    return model.fit(X_train, y_train, validation_data=(X_dev, y_dev), epochs=epochs, \n",
    "                     batch_size=batch_size, callbacks=[callback])\n",
    "\n",
    "def plotHistory(history):\n",
    "    print(\"Max. Validation Accuracy\",max(history.history[\"val_accuracy\"]))\n",
    "    pd.DataFrame(history.history).plot(figsize=(12,6))\n",
    "    plt.show()\n"
   ]
  },
  {
   "cell_type": "code",
   "execution_count": null,
   "metadata": {
    "execution": {
     "iopub.execute_input": "2021-01-02T13:03:56.429824Z",
     "iopub.status.busy": "2021-01-02T13:03:56.429099Z",
     "iopub.status.idle": "2021-01-02T13:04:13.950360Z",
     "shell.execute_reply": "2021-01-02T13:04:13.949701Z"
    },
    "papermill": {
     "duration": 17.620797,
     "end_time": "2021-01-02T13:04:13.950519",
     "exception": false,
     "start_time": "2021-01-02T13:03:56.329722",
     "status": "completed"
    },
    "scrolled": true,
    "tags": []
   },
   "outputs": [],
   "source": [
    "model_1 = k.models.Sequential([\n",
    "    k.layers.Dense(256, activation='relu', input_shape=(X_train.shape[1],)),\n",
    "    k.layers.Dense(128, activation='relu'),\n",
    "    k.layers.Dense(64, activation='relu'),\n",
    "    k.layers.Dense(10, activation='softmax'),\n",
    "])\n",
    "print(model_1.summary())\n",
    "model_1_history = trainModel(model=model_1, epochs=100, optimizer='adam')"
   ]
  },
  {
   "cell_type": "code",
   "execution_count": null,
   "metadata": {
    "execution": {
     "iopub.execute_input": "2021-01-02T13:04:14.402156Z",
     "iopub.status.busy": "2021-01-02T13:04:14.400572Z",
     "iopub.status.idle": "2021-01-02T13:04:14.790491Z",
     "shell.execute_reply": "2021-01-02T13:04:14.789940Z"
    },
    "papermill": {
     "duration": 0.617771,
     "end_time": "2021-01-02T13:04:14.790655",
     "exception": false,
     "start_time": "2021-01-02T13:04:14.172884",
     "status": "completed"
    },
    "tags": []
   },
   "outputs": [],
   "source": [
    "plotHistory(model_1_history)"
   ]
  },
  {
   "cell_type": "code",
   "execution_count": null,
   "metadata": {
    "execution": {
     "iopub.execute_input": "2021-01-02T13:04:15.253301Z",
     "iopub.status.busy": "2021-01-02T13:04:15.249007Z",
     "iopub.status.idle": "2021-01-02T13:05:05.135440Z",
     "shell.execute_reply": "2021-01-02T13:05:05.135999Z"
    },
    "papermill": {
     "duration": 50.123735,
     "end_time": "2021-01-02T13:05:05.136235",
     "exception": false,
     "start_time": "2021-01-02T13:04:15.012500",
     "status": "completed"
    },
    "scrolled": true,
    "tags": []
   },
   "outputs": [],
   "source": [
    "model_2 = k.models.Sequential([\n",
    "    k.layers.Dense(512, activation='relu', input_shape=(X_train.shape[1],)),\n",
    "    k.layers.Dropout(0.2),\n",
    "    \n",
    "    k.layers.Dense(256, activation='relu'),\n",
    "    k.layers.Dropout(0.2),\n",
    "\n",
    "    k.layers.Dense(128, activation='relu'),\n",
    "    k.layers.Dropout(0.2),\n",
    "\n",
    "    k.layers.Dense(64, activation='relu'),\n",
    "    k.layers.Dropout(0.2),\n",
    "\n",
    "    k.layers.Dense(10, activation='softmax'),\n",
    "])\n",
    "print(model_2.summary())\n",
    "model_2_history = trainModel(model=model_2, epochs=100, optimizer='adam')"
   ]
  },
  {
   "cell_type": "code",
   "execution_count": null,
   "metadata": {
    "execution": {
     "iopub.execute_input": "2021-01-02T13:05:06.237844Z",
     "iopub.status.busy": "2021-01-02T13:05:06.237142Z",
     "iopub.status.idle": "2021-01-02T13:05:06.832758Z",
     "shell.execute_reply": "2021-01-02T13:05:06.832204Z"
    },
    "papermill": {
     "duration": 1.14897,
     "end_time": "2021-01-02T13:05:06.832881",
     "exception": false,
     "start_time": "2021-01-02T13:05:05.683911",
     "status": "completed"
    },
    "tags": []
   },
   "outputs": [],
   "source": [
    "plotHistory(model_2_history)"
   ]
  },
  {
   "cell_type": "code",
   "execution_count": null,
   "metadata": {
    "execution": {
     "iopub.execute_input": "2021-01-02T13:05:07.899294Z",
     "iopub.status.busy": "2021-01-02T13:05:07.898550Z",
     "iopub.status.idle": "2021-01-02T13:10:43.789993Z",
     "shell.execute_reply": "2021-01-02T13:10:43.789206Z"
    },
    "papermill": {
     "duration": 336.430267,
     "end_time": "2021-01-02T13:10:43.790156",
     "exception": false,
     "start_time": "2021-01-02T13:05:07.359889",
     "status": "completed"
    },
    "scrolled": true,
    "tags": []
   },
   "outputs": [],
   "source": [
    "model_3 = k.models.Sequential([\n",
    "    k.layers.Reshape((X_train.shape[1] // 3, 3, 1), input_shape=(X_train.shape[1],)),\n",
    "\n",
    "    k.layers.Conv2D(32, (3, 3), activation='relu', padding='same'),\n",
    "    k.layers.Dropout(0.2),\n",
    "\n",
    "    k.layers.Conv2D(64, (3, 3), activation='relu', padding='same'),\n",
    "    k.layers.Dropout(0.2),\n",
    "\n",
    "    k.layers.Flatten(),\n",
    "\n",
    "    k.layers.Dense(512, activation='relu'),\n",
    "    k.layers.Dropout(0.2),\n",
    "    \n",
    "    k.layers.Dense(256, activation='relu'),\n",
    "    k.layers.Dropout(0.2),\n",
    "\n",
    "    k.layers.Dense(128, activation='relu'),\n",
    "    k.layers.Dropout(0.2),\n",
    "\n",
    "    k.layers.Dense(64, activation='relu'),\n",
    "    k.layers.Dropout(0.2),\n",
    "\n",
    "    k.layers.Dense(10, activation='softmax'),\n",
    "])\n",
    "print(model_3.summary())\n",
    "model_3_history = trainModel(model=model_3, epochs=100, optimizer='adam')"
   ]
  },
  {
   "cell_type": "code",
   "execution_count": null,
   "metadata": {
    "execution": {
     "iopub.execute_input": "2021-01-02T13:10:49.355150Z",
     "iopub.status.busy": "2021-01-02T13:10:49.348867Z",
     "iopub.status.idle": "2021-01-02T13:10:49.717658Z",
     "shell.execute_reply": "2021-01-02T13:10:49.718221Z"
    },
    "papermill": {
     "duration": 3.098873,
     "end_time": "2021-01-02T13:10:49.718403",
     "exception": false,
     "start_time": "2021-01-02T13:10:46.619530",
     "status": "completed"
    },
    "tags": []
   },
   "outputs": [],
   "source": [
    "plotHistory(model_3_history)"
   ]
  },
  {
   "cell_type": "markdown",
   "metadata": {
    "papermill": {
     "duration": 6.143531,
     "end_time": "2021-01-02T13:20:51.222345",
     "exception": false,
     "start_time": "2021-01-02T13:20:45.078814",
     "status": "completed"
    },
    "tags": []
   },
   "source": [
    "# Test Modelli"
   ]
  },
  {
   "cell_type": "code",
   "execution_count": null,
   "metadata": {
    "execution": {
     "iopub.execute_input": "2021-01-02T13:21:03.569471Z",
     "iopub.status.busy": "2021-01-02T13:21:03.568599Z",
     "iopub.status.idle": "2021-01-02T13:21:03.668558Z",
     "shell.execute_reply": "2021-01-02T13:21:03.669555Z"
    },
    "papermill": {
     "duration": 6.314243,
     "end_time": "2021-01-02T13:21:03.669811",
     "exception": false,
     "start_time": "2021-01-02T13:20:57.355568",
     "status": "completed"
    },
    "tags": []
   },
   "outputs": [],
   "source": [
    "models = [model_1, model_2, model_3]\n",
    "\n",
    "result_df = pd.DataFrame(columns=['Test Loss', 'Test Accuracy'])\n",
    "for model in models:\n",
    "    row_dict = {}\n",
    "    row_dict['Test Loss'], test_acc = model.evaluate(X_test, y_test, batch_size=128)\n",
    "    row_dict['Test Accuracy'] = \"{:.2f}\".format(test_acc*100)\n",
    "    result_df = pd.concat([result_df, pd.DataFrame([row_dict])], ignore_index=True)\n",
    "\n",
    "result_df"
   ]
  }
 ],
 "metadata": {
  "kernelspec": {
   "display_name": "Python 3",
   "language": "python",
   "name": "python3"
  },
  "language_info": {
   "codemirror_mode": {
    "name": "ipython",
    "version": 3
   },
   "file_extension": ".py",
   "mimetype": "text/x-python",
   "name": "python",
   "nbconvert_exporter": "python",
   "pygments_lexer": "ipython3",
   "version": "3.11.4"
  },
  "papermill": {
   "duration": 1062.807268,
   "end_time": "2021-01-02T13:21:10.785070",
   "environment_variables": {},
   "exception": null,
   "input_path": "__notebook__.ipynb",
   "output_path": "__notebook__.ipynb",
   "parameters": {},
   "start_time": "2021-01-02T13:03:27.977802",
   "version": "2.1.0"
  }
 },
 "nbformat": 4,
 "nbformat_minor": 4
}
